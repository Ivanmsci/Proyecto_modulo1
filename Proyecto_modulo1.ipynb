{
 "cells": [
  {
   "cell_type": "markdown",
   "metadata": {},
   "source": []
  },
  {
   "cell_type": "markdown",
   "metadata": {},
   "source": [
    "## Objetivos\n",
    "\n",
    "### Objetivo general\n",
    "\n",
    "### Objetivo específico\n"
   ]
  },
  {
   "cell_type": "code",
   "execution_count": 30,
   "metadata": {},
   "outputs": [],
   "source": [
    "import pandas as pd\n",
    "import numpy as np\n",
    "import sympy as sym\n",
    "import matplotlib.pyplot as plt\n",
    "import scipy.optimize  as opt"
   ]
  },
  {
   "cell_type": "code",
   "execution_count": 41,
   "metadata": {},
   "outputs": [
    {
     "data": {
      "text/html": [
       "<div>\n",
       "<style scoped>\n",
       "    .dataframe tbody tr th:only-of-type {\n",
       "        vertical-align: middle;\n",
       "    }\n",
       "\n",
       "    .dataframe tbody tr th {\n",
       "        vertical-align: top;\n",
       "    }\n",
       "\n",
       "    .dataframe thead th {\n",
       "        text-align: right;\n",
       "    }\n",
       "</style>\n",
       "<table border=\"1\" class=\"dataframe\">\n",
       "  <thead>\n",
       "    <tr style=\"text-align: right;\">\n",
       "      <th></th>\n",
       "      <th>longitud de onda</th>\n",
       "      <th>%Transmitancia</th>\n",
       "      <th>Centenas de nm</th>\n",
       "    </tr>\n",
       "  </thead>\n",
       "  <tbody>\n",
       "    <tr>\n",
       "      <td>0</td>\n",
       "      <td>356.82851</td>\n",
       "      <td>50.735</td>\n",
       "      <td>3.568285</td>\n",
       "    </tr>\n",
       "    <tr>\n",
       "      <td>1</td>\n",
       "      <td>353.19880</td>\n",
       "      <td>52.398</td>\n",
       "      <td>3.531988</td>\n",
       "    </tr>\n",
       "    <tr>\n",
       "      <td>2</td>\n",
       "      <td>349.64220</td>\n",
       "      <td>54.175</td>\n",
       "      <td>3.496422</td>\n",
       "    </tr>\n",
       "    <tr>\n",
       "      <td>3</td>\n",
       "      <td>346.15251</td>\n",
       "      <td>54.603</td>\n",
       "      <td>3.461525</td>\n",
       "    </tr>\n",
       "    <tr>\n",
       "      <td>4</td>\n",
       "      <td>342.73572</td>\n",
       "      <td>57.190</td>\n",
       "      <td>3.427357</td>\n",
       "    </tr>\n",
       "    <tr>\n",
       "      <td>5</td>\n",
       "      <td>339.38571</td>\n",
       "      <td>60.399</td>\n",
       "      <td>3.393857</td>\n",
       "    </tr>\n",
       "    <tr>\n",
       "      <td>6</td>\n",
       "      <td>336.10056</td>\n",
       "      <td>61.871</td>\n",
       "      <td>3.361006</td>\n",
       "    </tr>\n",
       "    <tr>\n",
       "      <td>7</td>\n",
       "      <td>332.87840</td>\n",
       "      <td>64.103</td>\n",
       "      <td>3.328784</td>\n",
       "    </tr>\n",
       "    <tr>\n",
       "      <td>8</td>\n",
       "      <td>329.71381</td>\n",
       "      <td>67.390</td>\n",
       "      <td>3.297138</td>\n",
       "    </tr>\n",
       "    <tr>\n",
       "      <td>9</td>\n",
       "      <td>326.61238</td>\n",
       "      <td>69.075</td>\n",
       "      <td>3.266124</td>\n",
       "    </tr>\n",
       "    <tr>\n",
       "      <td>10</td>\n",
       "      <td>323.56875</td>\n",
       "      <td>69.055</td>\n",
       "      <td>3.235688</td>\n",
       "    </tr>\n",
       "    <tr>\n",
       "      <td>11</td>\n",
       "      <td>320.58132</td>\n",
       "      <td>67.151</td>\n",
       "      <td>3.205813</td>\n",
       "    </tr>\n",
       "    <tr>\n",
       "      <td>12</td>\n",
       "      <td>317.64855</td>\n",
       "      <td>63.504</td>\n",
       "      <td>3.176486</td>\n",
       "    </tr>\n",
       "    <tr>\n",
       "      <td>13</td>\n",
       "      <td>314.76566</td>\n",
       "      <td>58.507</td>\n",
       "      <td>3.147657</td>\n",
       "    </tr>\n",
       "    <tr>\n",
       "      <td>14</td>\n",
       "      <td>311.93786</td>\n",
       "      <td>52.798</td>\n",
       "      <td>3.119379</td>\n",
       "    </tr>\n",
       "    <tr>\n",
       "      <td>15</td>\n",
       "      <td>309.16042</td>\n",
       "      <td>47.090</td>\n",
       "      <td>3.091604</td>\n",
       "    </tr>\n",
       "    <tr>\n",
       "      <td>16</td>\n",
       "      <td>306.43201</td>\n",
       "      <td>41.855</td>\n",
       "      <td>3.064320</td>\n",
       "    </tr>\n",
       "    <tr>\n",
       "      <td>17</td>\n",
       "      <td>303.75133</td>\n",
       "      <td>37.344</td>\n",
       "      <td>3.037513</td>\n",
       "    </tr>\n",
       "    <tr>\n",
       "      <td>18</td>\n",
       "      <td>301.11412</td>\n",
       "      <td>33.643</td>\n",
       "      <td>3.011141</td>\n",
       "    </tr>\n",
       "    <tr>\n",
       "      <td>19</td>\n",
       "      <td>298.53717</td>\n",
       "      <td>30.754</td>\n",
       "      <td>2.985372</td>\n",
       "    </tr>\n",
       "    <tr>\n",
       "      <td>20</td>\n",
       "      <td>295.97474</td>\n",
       "      <td>28.576</td>\n",
       "      <td>2.959747</td>\n",
       "    </tr>\n",
       "    <tr>\n",
       "      <td>21</td>\n",
       "      <td>293.48464</td>\n",
       "      <td>26.960</td>\n",
       "      <td>2.934846</td>\n",
       "    </tr>\n",
       "    <tr>\n",
       "      <td>22</td>\n",
       "      <td>291.00786</td>\n",
       "      <td>25.775</td>\n",
       "      <td>2.910079</td>\n",
       "    </tr>\n",
       "    <tr>\n",
       "      <td>23</td>\n",
       "      <td>288.60029</td>\n",
       "      <td>24.907</td>\n",
       "      <td>2.886003</td>\n",
       "    </tr>\n",
       "    <tr>\n",
       "      <td>24</td>\n",
       "      <td>286.23223</td>\n",
       "      <td>24.485</td>\n",
       "      <td>2.862322</td>\n",
       "    </tr>\n",
       "    <tr>\n",
       "      <td>25</td>\n",
       "      <td>283.87585</td>\n",
       "      <td>24.262</td>\n",
       "      <td>2.838758</td>\n",
       "    </tr>\n",
       "    <tr>\n",
       "      <td>26</td>\n",
       "      <td>281.58438</td>\n",
       "      <td>24.040</td>\n",
       "      <td>2.815844</td>\n",
       "    </tr>\n",
       "    <tr>\n",
       "      <td>27</td>\n",
       "      <td>279.30360</td>\n",
       "      <td>23.826</td>\n",
       "      <td>2.793036</td>\n",
       "    </tr>\n",
       "    <tr>\n",
       "      <td>28</td>\n",
       "      <td>277.08507</td>\n",
       "      <td>23.622</td>\n",
       "      <td>2.770851</td>\n",
       "    </tr>\n",
       "    <tr>\n",
       "      <td>29</td>\n",
       "      <td>274.87631</td>\n",
       "      <td>23.420</td>\n",
       "      <td>2.748763</td>\n",
       "    </tr>\n",
       "    <tr>\n",
       "      <td>30</td>\n",
       "      <td>272.72727</td>\n",
       "      <td>23.219</td>\n",
       "      <td>2.727273</td>\n",
       "    </tr>\n",
       "  </tbody>\n",
       "</table>\n",
       "</div>"
      ],
      "text/plain": [
       "    longitud de onda  %Transmitancia  Centenas de nm\n",
       "0          356.82851          50.735        3.568285\n",
       "1          353.19880          52.398        3.531988\n",
       "2          349.64220          54.175        3.496422\n",
       "3          346.15251          54.603        3.461525\n",
       "4          342.73572          57.190        3.427357\n",
       "5          339.38571          60.399        3.393857\n",
       "6          336.10056          61.871        3.361006\n",
       "7          332.87840          64.103        3.328784\n",
       "8          329.71381          67.390        3.297138\n",
       "9          326.61238          69.075        3.266124\n",
       "10         323.56875          69.055        3.235688\n",
       "11         320.58132          67.151        3.205813\n",
       "12         317.64855          63.504        3.176486\n",
       "13         314.76566          58.507        3.147657\n",
       "14         311.93786          52.798        3.119379\n",
       "15         309.16042          47.090        3.091604\n",
       "16         306.43201          41.855        3.064320\n",
       "17         303.75133          37.344        3.037513\n",
       "18         301.11412          33.643        3.011141\n",
       "19         298.53717          30.754        2.985372\n",
       "20         295.97474          28.576        2.959747\n",
       "21         293.48464          26.960        2.934846\n",
       "22         291.00786          25.775        2.910079\n",
       "23         288.60029          24.907        2.886003\n",
       "24         286.23223          24.485        2.862322\n",
       "25         283.87585          24.262        2.838758\n",
       "26         281.58438          24.040        2.815844\n",
       "27         279.30360          23.826        2.793036\n",
       "28         277.08507          23.622        2.770851\n",
       "29         274.87631          23.420        2.748763\n",
       "30         272.72727          23.219        2.727273"
      ]
     },
     "execution_count": 41,
     "metadata": {},
     "output_type": "execute_result"
    }
   ],
   "source": [
    "archivo = 'Simulación_P1.csv'\n",
    "data = pd.read_csv(archivo)\n",
    "data"
   ]
  },
  {
   "cell_type": "markdown",
   "metadata": {},
   "source": [
    "---"
   ]
  },
  {
   "cell_type": "markdown",
   "metadata": {},
   "source": [
    "## Solucion del problema "
   ]
  },
  {
   "cell_type": "code",
   "execution_count": 68,
   "metadata": {},
   "outputs": [
    {
     "data": {
      "text/plain": [
       "array([50.735, 52.398, 54.175, 54.603, 57.19 , 60.399, 61.871, 64.103,\n",
       "       67.39 , 69.075, 69.055, 67.151, 63.504, 58.507, 52.798, 47.09 ,\n",
       "       41.855, 37.344, 33.643, 30.754, 28.576, 26.96 , 25.775, 24.907,\n",
       "       24.485, 24.262, 24.04 , 23.826, 23.622, 23.42 , 23.219])"
      ]
     },
     "execution_count": 68,
     "metadata": {},
     "output_type": "execute_result"
    }
   ],
   "source": [
    "x = data.iloc[:,2].values\n",
    "y = data.iloc[:,1].values\n",
    "y"
   ]
  },
  {
   "cell_type": "code",
   "execution_count": 69,
   "metadata": {},
   "outputs": [],
   "source": [
    "#polinomio de grado 8\n",
    "\n",
    "m = 8\n",
    "\n",
    "def fun_obj(beta,x,y,n):\n",
    "    return np.sum((y-beta.dot([x**i for i in range(n+1)]))**2)"
   ]
  },
  {
   "cell_type": "code",
   "execution_count": 96,
   "metadata": {},
   "outputs": [],
   "source": [
    "#Definición de la beta inicial y uso de la funcion minimize \n",
    "\n",
    "b0 = np.zeros(m+1)\n",
    "ajuste8 = opt.minimize(fun_obj, b03, args=(x,y,m))"
   ]
  },
  {
   "cell_type": "code",
   "execution_count": 97,
   "metadata": {
    "scrolled": false
   },
   "outputs": [
    {
     "data": {
      "text/plain": [
       "      fun: 223.8149995472772\n",
       " hess_inv: array([[ 2.89556398,  2.62673084,  1.89407677,  0.35057402, -2.16926599,\n",
       "        -2.48400671,  2.991247  , -0.94874375,  0.09703448],\n",
       "       [ 2.62673084,  4.64172401,  2.65165401,  0.52568442, -2.97135788,\n",
       "        -3.44626834,  4.08388809, -1.28542825,  0.13077387],\n",
       "       [ 1.89407677,  2.65165401,  2.58128244, -0.03457524, -2.420557  ,\n",
       "        -2.44152065,  3.14651121, -1.01883607,  0.10546858],\n",
       "       [ 0.35057402,  0.52568442, -0.03457524,  0.59486854, -0.7113798 ,\n",
       "        -0.44929413,  0.62225808, -0.20179751,  0.02086646],\n",
       "       [-2.16926599, -2.97135788, -2.420557  , -0.7113798 ,  3.2455279 ,\n",
       "         2.71279471, -3.65562543,  1.19166179, -0.12371495],\n",
       "       [-2.48400671, -3.44626834, -2.44152065, -0.44929413,  2.71279471,\n",
       "         3.86659864, -4.4668982 ,  1.41680603, -0.14557415],\n",
       "       [ 2.991247  ,  4.08388809,  3.14651121,  0.62225808, -3.65562543,\n",
       "        -4.4668982 ,  5.38096181, -1.72229013,  0.17768431],\n",
       "       [-0.94874375, -1.28542825, -1.01883607, -0.20179751,  1.19166179,\n",
       "         1.41680603, -1.72229013,  0.55255981, -0.05707933],\n",
       "       [ 0.09703448,  0.13077387,  0.10546858,  0.02086646, -0.12371495,\n",
       "        -0.14557415,  0.17768431, -0.05707933,  0.00590097]])\n",
       "      jac: array([-0.3995533 , -0.77932167, -1.30200768, -1.84866714, -1.85818672,\n",
       "       -0.36351585,  2.31742477, -0.51285553,  1.19857216])\n",
       "  message: 'Desired error not necessarily achieved due to precision loss.'\n",
       "     nfev: 1131\n",
       "      nit: 13\n",
       "     njev: 102\n",
       "   status: 2\n",
       "  success: False\n",
       "        x: array([ 313.59926843,  428.33896989,  447.49745098,  232.72948635,\n",
       "       -232.31345159, -428.71286329,  364.37279403,  -96.32865517,\n",
       "          8.56031362])"
      ]
     },
     "execution_count": 97,
     "metadata": {},
     "output_type": "execute_result"
    }
   ],
   "source": [
    "#Solución\n",
    "ajuste8"
   ]
  },
  {
   "cell_type": "code",
   "execution_count": 118,
   "metadata": {},
   "outputs": [
    {
     "data": {
      "text/latex": [
       "$\\displaystyle 8.56031361602774 c^{8} - 96.3286551717386 c^{7} + 364.372794034279 c^{6} - 428.712863286448 c^{5} - 232.313451594553 c^{4} + 232.729486354357 c^{3} + 447.497450976933 c^{2} + 428.338969888667 c + 313.599268428444$"
      ],
      "text/plain": [
       "8.56031361602774*c**8 - 96.3286551717386*c**7 + 364.372794034279*c**6 - 428.712863286448*c**5 - 232.313451594553*c**4 + 232.729486354357*c**3 + 447.497450976933*c**2 + 428.338969888667*c + 313.599268428444"
      ]
     },
     "execution_count": 118,
     "metadata": {},
     "output_type": "execute_result"
    }
   ],
   "source": [
    "#Ecuación ajustada\n",
    "\n",
    "sym.var ('c')\n",
    "def pol3(c):\n",
    "    return ajuste3.x[0]+ajuste3.x[1]*c + ajuste3.x[2]*c**2 + ajuste3.x[3]*c**3+ajuste3.x[4]*c**4+ajuste3.x[5]*c**5+ajuste3.x[6]*c**6+ajuste3.x[7]*c**7+ajuste3.x[8]*c**8\n",
    "\n",
    "pol3(c)"
   ]
  },
  {
   "cell_type": "markdown",
   "metadata": {},
   "source": [
    "<div class=text-justify> La solución no es del todo factible, ya que aún se tiene un error demasiado grande, incluso tratandose de un polinomio de grado 8, por lo que si se trata de encontrar el valor para longitudes de onda distantes del rango mostrado en la tabla de datos, el error puede llegar a ser demasiado grande para siquiera considerar el resultado, incluso el propio módulo de python advierte que existe una perdida de precisión y que por lo tanto el error encontrado puede no ser el esperado. Esto se puede observar en el siguiente ejemplo, en donde se compara un valor real, contra uno ajustado, para la posición 10 de la tabla. </div>\n",
    "    "
   ]
  },
  {
   "cell_type": "code",
   "execution_count": 117,
   "metadata": {},
   "outputs": [
    {
     "data": {
      "text/plain": [
       "(64.37195400912606, 69.055)"
      ]
     },
     "execution_count": 117,
     "metadata": {},
     "output_type": "execute_result"
    }
   ],
   "source": [
    "yhat[10], data.iloc[10,1]"
   ]
  },
  {
   "cell_type": "markdown",
   "metadata": {},
   "source": [
    "Con este resultado se obtiene un error de:\n",
    "\n",
    "$$e_r = \\frac{|(0.6905)-(0.6437)|}{0.6905}*100 =  6.78\\% $$\n",
    "\n",
    "El cual es elevado para considerar valido el ajuste"
   ]
  },
  {
   "cell_type": "markdown",
   "metadata": {},
   "source": [
    "## Visualización del problema"
   ]
  },
  {
   "cell_type": "code",
   "execution_count": 119,
   "metadata": {},
   "outputs": [],
   "source": [
    "#Tabulación de la función ajustada par ser graficada\n",
    "\n",
    "xpoints = x\n",
    "ypoints = y\n",
    "\n",
    "beta = ajuste8.x\n",
    "#yhat = ajuste8.x[0]+ajuste8.x[1]*c + ajuste8.x[2]*c**2 + ajuste8.x[3]*c**3+ajuste8.x[4]*c**4+ajuste8.x[5]*c**5+ajuste8.x[6]*c**6+ajuste8.x[7]*c**7+ajuste8.x[8]*c**8\n",
    "yhat = beta.dot([x**i for i in range(m+1)])\n",
    "\n"
   ]
  },
  {
   "cell_type": "code",
   "execution_count": 120,
   "metadata": {},
   "outputs": [
    {
     "data": {
      "image/png": "[encoded data removed]",
      "text/plain": [
       "<Figure size 576x432 with 1 Axes>"
      ]
     },
     "metadata": {
      "needs_background": "light"
     },
     "output_type": "display_data"
    }
   ],
   "source": [
    "\n",
    "#Crear la figura\n",
    "\n",
    "plt.figure(figsize=(8,6))\n",
    "\n",
    "#Graficar los datos\n",
    "\n",
    "plt.plot(xpoints, ypoints, 'pk', ms=5, label='Datos')\n",
    "plt.plot(xpoints, yhat, 'r', lw=2, label='Ajuste grado 8')\n",
    "\n",
    "#Mostrar las etiquetas, los ejes, el  mallado y la figura\n",
    "\n",
    "plt.grid()\n",
    "plt.xlabel('longitud de onda $(\\; en\\; centenas\\; de\\; nm)$')\n",
    "plt.ylabel('% transmitancia')\n",
    "plt.legend(loc = 'best')\n",
    "\n",
    "\n",
    "plt.show()"
   ]
  },
  {
   "cell_type": "markdown",
   "metadata": {},
   "source": [
    "<div class=text-justify>En la gráfica puede observarse lo que se concluyo en el resultado, aún se tiene un desfase muy grande para ciertos puntos, lo que va a conllevar errores considerables en las aproximaciones y por tanto el ajuste podria ser util solamente en el caso de que se quiera conocer de manera rapida y aproximada un valor de transmitancia, sin importar la precisión del mismo.</div>\n",
    "\n"
   ]
  },
  {
   "cell_type": "code",
   "execution_count": null,
   "metadata": {},
   "outputs": [],
   "source": []
  }
 ],
 "metadata": {
  "kernelspec": {
   "display_name": "Python 3",
   "language": "python",
   "name": "python3"
  },
  "language_info": {
   "codemirror_mode": {
    "name": "ipython",
    "version": 3
   },
   "file_extension": ".py",
   "mimetype": "text/x-python",
   "name": "python",
   "nbconvert_exporter": "python",
   "pygments_lexer": "ipython3",
   "version": "3.7.4"
  }
 },
 "nbformat": 4,
 "nbformat_minor": 2
}
