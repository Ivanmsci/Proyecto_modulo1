{
 "cells": [
  {
   "cell_type": "markdown",
   "metadata": {},
   "source": [
    "# Ajuste por mínimos cuadrados para la transmitancia de una red nanoestructurada \n"
   ]
  },
  {
   "cell_type": "markdown",
   "metadata": {},
   "source": [
    "\n",
    "\n",
    "### Objetivo general\n",
    "\n",
    "\n",
    "Llevar a cabo una regresión lineal por mínimos cuadrados, que sea capaz de representar, de forma eficaz, los datos obtenidos de transmitancia contra longitud de onda, en una malla nanoestructurada. \n",
    "\n",
    "\n",
    "\n",
    "### Objetivo específico\n",
    "\n",
    "\n",
    "Observar gráficamente el comportamiento de los datos, para determinar el comportamiento de la transmitancia conforme se varía la longitud de onda.\n",
    "\n",
    "Conocer, sin la necesidad de llevar a cabo el experimento, la transmitancia que se puede obtener para distintas longitudes de onda, facilitando así, futuros análisis.\n",
    "\n",
    "Determinar las limitantes que puede tener el módulo de optimización de python, para datos no tan homogéneos.\n",
    "\n"
   ]
  },
  {
   "cell_type": "markdown",
   "metadata": {},
   "source": [
    "## Modelo del problema y breve introducción"
   ]
  },
  {
   "cell_type": "markdown",
   "metadata": {},
   "source": [
    "\n",
    "Una nanoestructura es aquella entidad con a menos una dimensión por debajo de los 100nm, o entidades de tamaños superiores construidos por bloques nanométricos, la caracterización de dichas nanoestructuras  permite la posterior aplicación de las propiedades de dichos materiales.\n",
    "    \n",
    "La radiación electromagnética es generada por los campos eléctricos y magnéticos oscilando simultáneamente, donde a esta oscilación se le conoce como onda electromagnética, dicha onda viajera presenta una longitud de onda y/o frecuencia con la que se desplaza, dicha longitud de onda/ frecuencia se puede clasificar utilizando la escala del espectro electromagnético.\n",
    "\n",
    "Después de excitar un sistema, este tiende a volver a su estado fundamental, por lo que presenta un decaimiento a manera de emisión, cumpliendo con el principio de conservación de la energía. La espectrofotometría, es aquella técnica de medición cuantitativa de las propiedades de reflexión o transmisión de un material respecto a su longitud de onda, la transmitancia se define como la consecuencia de la interacción de radiación incidente interactuando con las partículas absorbentes de un arreglo, existe una fracción de radiación incidente que no es reflejada en la interfaz ni absorbida por el material, dicho porcentaje es transmitido emergiendo siguiendo a ley de Beer.\n",
    "\n",
    "Para ajustar una serie de mediciones experimentales, se utiliza la química analítica, rama que se interesa en conocer de distintas maneras los materiales evaluados por métodos experimentales. Una curva de calibración es uno de los métodos más empleados por esta rama ya que permiten determinar la relación entre una propiedad y una señal.\n",
    "\n",
    "El problema de ajuste de curvas por mínimos cuadrados que se llevara a cabo, se basa en encontrar la una función que represente con la mayor precisión posible una serie de datos experimentales, esto es, que, a la hora de evaluar dicha función en un punto en específico, esta nos arroje el menor error posible. \n",
    "\n",
    "Para esto, es necesario encontrar los coeficientes del polinomio de grado enésimo que se esté buscando, tales que la distancia que existe entre la curva ajustada y la curva generada por los datos experimentales sea mínima (esto garantiza que el error en las mediciones será mínimo), sin embargo, ya que existen distancias que se encuentran por encima o por debajo de la curva de datos, es necesario elevar cada error al cuadrado para poder llevar a cabo la sumatoria errores, para la cantidad total de datos, de modo que:\n",
    "\n",
    "$$\\sum_{i=1}^{n}(y_i-\\hat{f}(x_i))^2=\\sum_{i=1}^{n}(y_i-\\left[1 \\quad x_i\\right]\\boldsymbol{\\beta})^2$$\n",
    "\n",
    "Esta función es la que se quiere minimizar, para obtener el mínimo error posible.\n",
    "\n",
    "Para el propósito de esta investigación, se llevarán a cabo curvas de grado 3, grado 5 y grado 8, esto con la finalidad de obtener el polinimio que mejor se ajuste a los datos obtenidos de manera experimental, además de ver que tan efectivo es el módulo optimize de python cuando se trata de ajustar curvas en casos de la vida real.\n",
    "\n"
   ]
  },
  {
   "cell_type": "code",
   "execution_count": 1,
   "metadata": {},
   "outputs": [],
   "source": [
    "import pandas as pd\n",
    "import numpy as np\n",
    "import sympy as sym\n",
    "import matplotlib.pyplot as plt\n",
    "import scipy.optimize  as opt"
   ]
  },
  {
   "cell_type": "code",
   "execution_count": 2,
   "metadata": {},
   "outputs": [
    {
     "data": {
      "text/html": [
       "<div>\n",
       "<style scoped>\n",
       "    .dataframe tbody tr th:only-of-type {\n",
       "        vertical-align: middle;\n",
       "    }\n",
       "\n",
       "    .dataframe tbody tr th {\n",
       "        vertical-align: top;\n",
       "    }\n",
       "\n",
       "    .dataframe thead th {\n",
       "        text-align: right;\n",
       "    }\n",
       "</style>\n",
       "<table border=\"1\" class=\"dataframe\">\n",
       "  <thead>\n",
       "    <tr style=\"text-align: right;\">\n",
       "      <th></th>\n",
       "      <th>longitud de onda</th>\n",
       "      <th>%Transmitancia</th>\n",
       "      <th>Centenas de nm</th>\n",
       "    </tr>\n",
       "  </thead>\n",
       "  <tbody>\n",
       "    <tr>\n",
       "      <td>0</td>\n",
       "      <td>356.82851</td>\n",
       "      <td>50.735</td>\n",
       "      <td>3.568285</td>\n",
       "    </tr>\n",
       "    <tr>\n",
       "      <td>1</td>\n",
       "      <td>353.19880</td>\n",
       "      <td>52.398</td>\n",
       "      <td>3.531988</td>\n",
       "    </tr>\n",
       "    <tr>\n",
       "      <td>2</td>\n",
       "      <td>349.64220</td>\n",
       "      <td>54.175</td>\n",
       "      <td>3.496422</td>\n",
       "    </tr>\n",
       "    <tr>\n",
       "      <td>3</td>\n",
       "      <td>346.15251</td>\n",
       "      <td>54.603</td>\n",
       "      <td>3.461525</td>\n",
       "    </tr>\n",
       "    <tr>\n",
       "      <td>4</td>\n",
       "      <td>342.73572</td>\n",
       "      <td>57.190</td>\n",
       "      <td>3.427357</td>\n",
       "    </tr>\n",
       "    <tr>\n",
       "      <td>5</td>\n",
       "      <td>339.38571</td>\n",
       "      <td>60.399</td>\n",
       "      <td>3.393857</td>\n",
       "    </tr>\n",
       "    <tr>\n",
       "      <td>6</td>\n",
       "      <td>336.10056</td>\n",
       "      <td>61.871</td>\n",
       "      <td>3.361006</td>\n",
       "    </tr>\n",
       "    <tr>\n",
       "      <td>7</td>\n",
       "      <td>332.87840</td>\n",
       "      <td>64.103</td>\n",
       "      <td>3.328784</td>\n",
       "    </tr>\n",
       "    <tr>\n",
       "      <td>8</td>\n",
       "      <td>329.71381</td>\n",
       "      <td>67.390</td>\n",
       "      <td>3.297138</td>\n",
       "    </tr>\n",
       "    <tr>\n",
       "      <td>9</td>\n",
       "      <td>326.61238</td>\n",
       "      <td>69.075</td>\n",
       "      <td>3.266124</td>\n",
       "    </tr>\n",
       "    <tr>\n",
       "      <td>10</td>\n",
       "      <td>323.56875</td>\n",
       "      <td>69.055</td>\n",
       "      <td>3.235688</td>\n",
       "    </tr>\n",
       "    <tr>\n",
       "      <td>11</td>\n",
       "      <td>320.58132</td>\n",
       "      <td>67.151</td>\n",
       "      <td>3.205813</td>\n",
       "    </tr>\n",
       "    <tr>\n",
       "      <td>12</td>\n",
       "      <td>317.64855</td>\n",
       "      <td>63.504</td>\n",
       "      <td>3.176486</td>\n",
       "    </tr>\n",
       "    <tr>\n",
       "      <td>13</td>\n",
       "      <td>314.76566</td>\n",
       "      <td>58.507</td>\n",
       "      <td>3.147657</td>\n",
       "    </tr>\n",
       "    <tr>\n",
       "      <td>14</td>\n",
       "      <td>311.93786</td>\n",
       "      <td>52.798</td>\n",
       "      <td>3.119379</td>\n",
       "    </tr>\n",
       "    <tr>\n",
       "      <td>15</td>\n",
       "      <td>309.16042</td>\n",
       "      <td>47.090</td>\n",
       "      <td>3.091604</td>\n",
       "    </tr>\n",
       "    <tr>\n",
       "      <td>16</td>\n",
       "      <td>306.43201</td>\n",
       "      <td>41.855</td>\n",
       "      <td>3.064320</td>\n",
       "    </tr>\n",
       "    <tr>\n",
       "      <td>17</td>\n",
       "      <td>303.75133</td>\n",
       "      <td>37.344</td>\n",
       "      <td>3.037513</td>\n",
       "    </tr>\n",
       "    <tr>\n",
       "      <td>18</td>\n",
       "      <td>301.11412</td>\n",
       "      <td>33.643</td>\n",
       "      <td>3.011141</td>\n",
       "    </tr>\n",
       "    <tr>\n",
       "      <td>19</td>\n",
       "      <td>298.53717</td>\n",
       "      <td>30.754</td>\n",
       "      <td>2.985372</td>\n",
       "    </tr>\n",
       "    <tr>\n",
       "      <td>20</td>\n",
       "      <td>295.97474</td>\n",
       "      <td>28.576</td>\n",
       "      <td>2.959747</td>\n",
       "    </tr>\n",
       "    <tr>\n",
       "      <td>21</td>\n",
       "      <td>293.48464</td>\n",
       "      <td>26.960</td>\n",
       "      <td>2.934846</td>\n",
       "    </tr>\n",
       "    <tr>\n",
       "      <td>22</td>\n",
       "      <td>291.00786</td>\n",
       "      <td>25.775</td>\n",
       "      <td>2.910079</td>\n",
       "    </tr>\n",
       "    <tr>\n",
       "      <td>23</td>\n",
       "      <td>288.60029</td>\n",
       "      <td>24.907</td>\n",
       "      <td>2.886003</td>\n",
       "    </tr>\n",
       "    <tr>\n",
       "      <td>24</td>\n",
       "      <td>286.23223</td>\n",
       "      <td>24.485</td>\n",
       "      <td>2.862322</td>\n",
       "    </tr>\n",
       "    <tr>\n",
       "      <td>25</td>\n",
       "      <td>283.87585</td>\n",
       "      <td>24.262</td>\n",
       "      <td>2.838758</td>\n",
       "    </tr>\n",
       "    <tr>\n",
       "      <td>26</td>\n",
       "      <td>281.58438</td>\n",
       "      <td>24.040</td>\n",
       "      <td>2.815844</td>\n",
       "    </tr>\n",
       "    <tr>\n",
       "      <td>27</td>\n",
       "      <td>279.30360</td>\n",
       "      <td>23.826</td>\n",
       "      <td>2.793036</td>\n",
       "    </tr>\n",
       "    <tr>\n",
       "      <td>28</td>\n",
       "      <td>277.08507</td>\n",
       "      <td>23.622</td>\n",
       "      <td>2.770851</td>\n",
       "    </tr>\n",
       "    <tr>\n",
       "      <td>29</td>\n",
       "      <td>274.87631</td>\n",
       "      <td>23.420</td>\n",
       "      <td>2.748763</td>\n",
       "    </tr>\n",
       "    <tr>\n",
       "      <td>30</td>\n",
       "      <td>272.72727</td>\n",
       "      <td>23.219</td>\n",
       "      <td>2.727273</td>\n",
       "    </tr>\n",
       "  </tbody>\n",
       "</table>\n",
       "</div>"
      ],
      "text/plain": [
       "    longitud de onda  %Transmitancia  Centenas de nm\n",
       "0          356.82851          50.735        3.568285\n",
       "1          353.19880          52.398        3.531988\n",
       "2          349.64220          54.175        3.496422\n",
       "3          346.15251          54.603        3.461525\n",
       "4          342.73572          57.190        3.427357\n",
       "5          339.38571          60.399        3.393857\n",
       "6          336.10056          61.871        3.361006\n",
       "7          332.87840          64.103        3.328784\n",
       "8          329.71381          67.390        3.297138\n",
       "9          326.61238          69.075        3.266124\n",
       "10         323.56875          69.055        3.235688\n",
       "11         320.58132          67.151        3.205813\n",
       "12         317.64855          63.504        3.176486\n",
       "13         314.76566          58.507        3.147657\n",
       "14         311.93786          52.798        3.119379\n",
       "15         309.16042          47.090        3.091604\n",
       "16         306.43201          41.855        3.064320\n",
       "17         303.75133          37.344        3.037513\n",
       "18         301.11412          33.643        3.011141\n",
       "19         298.53717          30.754        2.985372\n",
       "20         295.97474          28.576        2.959747\n",
       "21         293.48464          26.960        2.934846\n",
       "22         291.00786          25.775        2.910079\n",
       "23         288.60029          24.907        2.886003\n",
       "24         286.23223          24.485        2.862322\n",
       "25         283.87585          24.262        2.838758\n",
       "26         281.58438          24.040        2.815844\n",
       "27         279.30360          23.826        2.793036\n",
       "28         277.08507          23.622        2.770851\n",
       "29         274.87631          23.420        2.748763\n",
       "30         272.72727          23.219        2.727273"
      ]
     },
     "execution_count": 2,
     "metadata": {},
     "output_type": "execute_result"
    }
   ],
   "source": [
    "archivo = 'Simulación_P1.csv'\n",
    "data = pd.read_csv(archivo)\n",
    "data"
   ]
  },
  {
   "cell_type": "markdown",
   "metadata": {},
   "source": [
    "## Solución del problema del problema"
   ]
  },
  {
   "cell_type": "code",
   "execution_count": 3,
   "metadata": {},
   "outputs": [
    {
     "data": {
      "text/plain": [
       "array([50.735, 52.398, 54.175, 54.603, 57.19 , 60.399, 61.871, 64.103,\n",
       "       67.39 , 69.075, 69.055, 67.151, 63.504, 58.507, 52.798, 47.09 ,\n",
       "       41.855, 37.344, 33.643, 30.754, 28.576, 26.96 , 25.775, 24.907,\n",
       "       24.485, 24.262, 24.04 , 23.826, 23.622, 23.42 , 23.219])"
      ]
     },
     "execution_count": 3,
     "metadata": {},
     "output_type": "execute_result"
    }
   ],
   "source": [
    "x = data.iloc[:,2].values\n",
    "y = data.iloc[:,1].values\n",
    "y"
   ]
  },
  {
   "cell_type": "code",
   "execution_count": 4,
   "metadata": {},
   "outputs": [],
   "source": [
    "#polinomio de grado 8\n",
    "\n",
    "m = 8\n",
    "s = 5\n",
    "d = 3\n",
    "\n",
    "\n",
    "def fun_obj(beta,x,y,n):\n",
    "    return np.sum((y-beta.dot([x**i for i in range(n+1)]))**2)"
   ]
  },
  {
   "cell_type": "code",
   "execution_count": 5,
   "metadata": {},
   "outputs": [],
   "source": [
    "#Definición de la beta inicial y uso de la funcion minimize \n",
    "\n",
    "b08 = np.zeros(m+1)\n",
    "ajuste8 = opt.minimize(fun_obj, b08, args=(x,y,m))\n",
    "b05 = np.zeros(s+1)\n",
    "ajuste5 = opt.minimize(fun_obj, b05, args=(x,y,s))\n",
    "b03 = np.zeros(d+1)\n",
    "ajuste3 = opt.minimize(fun_obj, b03, args=(x,y,d))"
   ]
  },
  {
   "cell_type": "code",
   "execution_count": 6,
   "metadata": {
    "scrolled": false
   },
   "outputs": [
    {
     "data": {
      "text/plain": [
       "      fun: 540.2542279391135\n",
       " hess_inv: array([[ 3.31164291e+04,  6.19060700e+01,  1.00114559e+04,\n",
       "        -6.38830328e+01],\n",
       "       [ 6.19060701e+01,  2.90382740e-01,  2.05983024e+01,\n",
       "        -3.21088942e-01],\n",
       "       [ 1.00114559e+04,  2.05983024e+01,  3.04697481e+03,\n",
       "        -2.14871512e+01],\n",
       "       [-6.38830329e+01, -3.21088942e-01, -2.14871512e+01,\n",
       "         3.56090345e-01]])\n",
       "      jac: array([0.11026764, 0.4197464 , 1.38549805, 4.37534332])\n",
       "  message: 'Desired error not necessarily achieved due to precision loss.'\n",
       "     nfev: 828\n",
       "      nit: 37\n",
       "     njev: 136\n",
       "   status: 2\n",
       "  success: False\n",
       "        x: array([ 13119.72152646, -13036.44595648,   4293.11582835,   -467.09491503])"
      ]
     },
     "execution_count": 6,
     "metadata": {},
     "output_type": "execute_result"
    }
   ],
   "source": [
    "#Solución\n",
    "ajuste3"
   ]
  },
  {
   "cell_type": "code",
   "execution_count": 7,
   "metadata": {},
   "outputs": [
    {
     "data": {
      "text/plain": [
       "      fun: 566.0637124984623\n",
       " hess_inv: array([[ 3.54136854e+04,  7.44614448e+04, -1.65600016e+05,\n",
       "         1.01214580e+05, -2.54831772e+04,  2.31725665e+03],\n",
       "       [ 7.44614448e+04,  1.57454181e+05, -3.50132660e+05,\n",
       "         2.14124667e+05, -5.39392667e+04,  4.90698873e+03],\n",
       "       [-1.65600016e+05, -3.50132660e+05,  7.78596178e+05,\n",
       "        -4.76147128e+05,  1.19942948e+05, -1.09114053e+04],\n",
       "       [ 1.01214580e+05,  2.14124667e+05, -4.76147128e+05,\n",
       "         2.91203117e+05, -7.33589853e+04,  6.67389313e+03],\n",
       "       [-2.54831772e+04, -5.39392667e+04,  1.19942948e+05,\n",
       "        -7.33589853e+04,  1.84813006e+04, -1.68142329e+03],\n",
       "       [ 2.31725664e+03,  4.90698873e+03, -1.09114053e+04,\n",
       "         6.67389312e+03, -1.68142329e+03,  1.52981008e+02]])\n",
       "      jac: array([ -1.46353149,  -3.41584778,  -7.53704071, -14.67557526,\n",
       "       -18.85851288,  26.11730194])\n",
       "  message: 'Desired error not necessarily achieved due to precision loss.'\n",
       "     nfev: 1420\n",
       "      nit: 58\n",
       "     njev: 176\n",
       "   status: 2\n",
       "  success: False\n",
       "        x: array([ 2373.51308603,  2552.40514234, -4746.05602109,  2156.16630719,\n",
       "        -381.78564135,    22.3424096 ])"
      ]
     },
     "execution_count": 7,
     "metadata": {},
     "output_type": "execute_result"
    }
   ],
   "source": [
    "ajuste5"
   ]
  },
  {
   "cell_type": "code",
   "execution_count": 8,
   "metadata": {},
   "outputs": [
    {
     "data": {
      "text/plain": [
       "      fun: 223.8149995472772\n",
       " hess_inv: array([[ 2.89556398,  2.62673084,  1.89407677,  0.35057402, -2.16926599,\n",
       "        -2.48400671,  2.991247  , -0.94874375,  0.09703448],\n",
       "       [ 2.62673084,  4.64172401,  2.65165401,  0.52568442, -2.97135788,\n",
       "        -3.44626834,  4.08388809, -1.28542825,  0.13077387],\n",
       "       [ 1.89407677,  2.65165401,  2.58128244, -0.03457524, -2.420557  ,\n",
       "        -2.44152065,  3.14651121, -1.01883607,  0.10546858],\n",
       "       [ 0.35057402,  0.52568442, -0.03457524,  0.59486854, -0.7113798 ,\n",
       "        -0.44929413,  0.62225808, -0.20179751,  0.02086646],\n",
       "       [-2.16926599, -2.97135788, -2.420557  , -0.7113798 ,  3.2455279 ,\n",
       "         2.71279471, -3.65562543,  1.19166179, -0.12371495],\n",
       "       [-2.48400671, -3.44626834, -2.44152065, -0.44929413,  2.71279471,\n",
       "         3.86659864, -4.4668982 ,  1.41680603, -0.14557415],\n",
       "       [ 2.991247  ,  4.08388809,  3.14651121,  0.62225808, -3.65562543,\n",
       "        -4.4668982 ,  5.38096181, -1.72229013,  0.17768431],\n",
       "       [-0.94874375, -1.28542825, -1.01883607, -0.20179751,  1.19166179,\n",
       "         1.41680603, -1.72229013,  0.55255981, -0.05707933],\n",
       "       [ 0.09703448,  0.13077387,  0.10546858,  0.02086646, -0.12371495,\n",
       "        -0.14557415,  0.17768431, -0.05707933,  0.00590097]])\n",
       "      jac: array([-0.3995533 , -0.77932167, -1.30200768, -1.84866714, -1.85818672,\n",
       "       -0.36351585,  2.31742477, -0.51285553,  1.19857216])\n",
       "  message: 'Desired error not necessarily achieved due to precision loss.'\n",
       "     nfev: 1131\n",
       "      nit: 13\n",
       "     njev: 102\n",
       "   status: 2\n",
       "  success: False\n",
       "        x: array([ 313.59926843,  428.33896989,  447.49745098,  232.72948635,\n",
       "       -232.31345159, -428.71286329,  364.37279403,  -96.32865517,\n",
       "          8.56031362])"
      ]
     },
     "execution_count": 8,
     "metadata": {},
     "output_type": "execute_result"
    }
   ],
   "source": [
    "ajuste8"
   ]
  },
  {
   "cell_type": "markdown",
   "metadata": {},
   "source": [
    "El polinomio de mejor ajuste es el de grado 8, ya que se obtiene el menor error posible respecto de los datos experimentales y, por tanto, será el ajuste que se utilizará para el análisis (a excepción de las gráficas)."
   ]
  },
  {
   "cell_type": "code",
   "execution_count": 9,
   "metadata": {},
   "outputs": [
    {
     "data": {
      "text/latex": [
       "$\\displaystyle 8.56031361602774 c^{8} - 96.3286551717386 c^{7} + 364.372794034279 c^{6} - 428.712863286448 c^{5} - 232.313451594553 c^{4} + 232.729486354357 c^{3} + 447.497450976933 c^{2} + 428.338969888667 c + 313.599268428444$"
      ],
      "text/plain": [
       "8.56031361602774*c**8 - 96.3286551717386*c**7 + 364.372794034279*c**6 - 428.712863286448*c**5 - 232.313451594553*c**4 + 232.729486354357*c**3 + 447.497450976933*c**2 + 428.338969888667*c + 313.599268428444"
      ]
     },
     "execution_count": 9,
     "metadata": {},
     "output_type": "execute_result"
    }
   ],
   "source": [
    "#Ecuación ajustada de grado 8\n",
    "\n",
    "sym.var ('c')\n",
    "def pol3(c):\n",
    "    return ajuste8.x[0]+ajuste8.x[1]*c + ajuste8.x[2]*c**2 + ajuste8.x[3]*c**3+ajuste8.x[4]*c**4+ajuste8.x[5]*c**5+ajuste8.x[6]*c**6+ajuste8.x[7]*c**7+ajuste8.x[8]*c**8\n",
    "\n",
    "pol3(c)"
   ]
  },
  {
   "cell_type": "code",
   "execution_count": 10,
   "metadata": {},
   "outputs": [
    {
     "data": {
      "text/plain": [
       "(64.37195400912606, 69.055)"
      ]
     },
     "execution_count": 10,
     "metadata": {},
     "output_type": "execute_result"
    }
   ],
   "source": [
    "beta8 = ajuste8.x\n",
    "beta5 = ajuste5.x\n",
    "beta3 = ajuste3.x\n",
    "\n",
    "\n",
    "yhat8 = beta8.dot([x**i for i in range(m+1)])\n",
    "yhat5 = beta5.dot([x**i for i in range(s+1)])\n",
    "yhat3 = beta3.dot([x**i for i in range(d+1)])\n",
    "\n",
    "\n",
    "yhat8[10], data.iloc[10,1]"
   ]
  },
  {
   "cell_type": "markdown",
   "metadata": {},
   "source": [
    "Con este resultado se obtiene un error de:\n",
    "\n",
    "$$e_r = \\frac{|(0.6905)-(0.6437)|}{0.6905}*100 =  6.78\\% $$\n",
    "\n",
    "El cual es elevado para considerar valido el ajuste"
   ]
  },
  {
   "cell_type": "markdown",
   "metadata": {},
   "source": [
    "<div class=text-justify> La solución no es del todo factible, ya que aún se tiene un error demasiado grande, incluso tratándose de un polinomio de grado 8, por lo que, si se trata de encontrar el valor para longitudes de onda distantes del rango mostrado en la tabla de datos, el error puede llegar a ser demasiado grande para siquiera considerar el resultado, incluso el propio módulo de python advierte que existe una pérdida de precisión y que por lo tanto el error encontrado puede no ser el esperado. Esto se puede observar en el siguiente ejemplo, en donde se compara un valor real, contra uno ajustado, para la posición 10 de la tabla. </div>"
   ]
  },
  {
   "cell_type": "markdown",
   "metadata": {},
   "source": [
    "## Visualización del problema"
   ]
  },
  {
   "cell_type": "code",
   "execution_count": 11,
   "metadata": {},
   "outputs": [],
   "source": [
    "xpoints = x\n",
    "ypoints = y"
   ]
  },
  {
   "cell_type": "code",
   "execution_count": 12,
   "metadata": {},
   "outputs": [
    {
     "data": {
      "image/png": "[encoded data removed]",
      "text/plain": [
       "<Figure size 576x432 with 1 Axes>"
      ]
     },
     "metadata": {
      "needs_background": "light"
     },
     "output_type": "display_data"
    }
   ],
   "source": [
    "\n",
    "#Crear la figura\n",
    "\n",
    "plt.figure(figsize=(8,6))\n",
    "\n",
    "#Graficar los datos\n",
    "\n",
    "plt.plot(xpoints, ypoints, 'pk', ms=5, label='Datos')\n",
    "plt.plot(xpoints, yhat8, 'r', lw=2, label='Ajuste grado 8')\n",
    "plt.plot(xpoints, yhat5, 'g', lw=2, label='Ajuste grado 5')\n",
    "plt.plot(xpoints, yhat3, 'b', lw=2, label='Ajuste grado 3')\n",
    "\n",
    "#Mostrar las etiquetas, los ejes, el  mallado y la figura\n",
    "\n",
    "plt.grid()\n",
    "plt.xlabel('longitud de onda $(\\; en\\; centenas\\; de\\; nm)$')\n",
    "plt.ylabel('% transmitancia')\n",
    "plt.legend(loc = 'best')\n",
    "\n",
    "\n",
    "plt.show()"
   ]
  },
  {
   "cell_type": "code",
   "execution_count": 13,
   "metadata": {},
   "outputs": [
    {
     "data": {
      "image/png": "[encoded data removed]",
      "text/plain": [
       "<Figure size 576x432 with 1 Axes>"
      ]
     },
     "metadata": {
      "needs_background": "light"
     },
     "output_type": "display_data"
    }
   ],
   "source": [
    "error = [ajuste3.fun, ajuste5.fun, ajuste8.fun]\n",
    "plt.figure(figsize=(8,6))\n",
    "plt.plot(range(1,4), error, 'ro', ms=5)\n",
    "plt.xlabel('número de ajuste del polinomio')\n",
    "plt.ylabel('error')\n",
    "\n",
    "plt.grid()\n",
    "plt.show()"
   ]
  },
  {
   "cell_type": "markdown",
   "metadata": {},
   "source": [
    "<div class=text-justify>En la gráfica puede observarse lo que se concluyó en el resultado. El polinomio que presenta el mejor ajuste (ya que presenta el menor error) es el de grado 8, sin embargo, aún se tiene un desfase muy grande para ciertos puntos, lo que va a conllevar errores considerables en las aproximaciones y por tanto el ajuste podría ser útil solamente en el caso de que se quiera conocer de manera rápida y aproximada un valor de transmitancia, sin importar la precisión del mismo. </div>\n",
    "\n"
   ]
  },
  {
   "cell_type": "markdown",
   "metadata": {},
   "source": [
    "## conclusiones"
   ]
  },
  {
   "cell_type": "markdown",
   "metadata": {},
   "source": [
    "De los tres ajustes de curvas realizados sobre el conjunto de datos, la función grado ocho logra la mejor aproximación a los valores experimentales de la transmitancia. Aun así, el error que presenta la función no es lo suficientemente bajo para aproximar la mayor cantidad de valores. \n",
    "\n",
    "Se encontraron limitaciones en la función minimize de la librería scipy.optimize, pues al tener longitudes de onda demasiado pequeñas se llegaban a inconsistencias en la solución del ajuste, para mitigar el error fue necesario realizar un cambio de unidades de nanómetros a micras, de esta manera fue posible reducir el error.\n"
   ]
  },
  {
   "cell_type": "markdown",
   "metadata": {},
   "source": [
    "## Referencias"
   ]
  },
  {
   "cell_type": "markdown",
   "metadata": {},
   "source": [
    "* [1] Incorporated, S. Spectroscopy Oil Analysis. Synlube.com (2019). at <http://www.synlube.com/Spectroscopy.htm>\n",
    "* [2] Tipos Espectrales - Niveles de Energ&iacutea. Cas.sdss.org (2019). at <http://cas.sdss.org/dr5/sp/proj/advanced/spectraltypes/energylevels.asp>\n",
    "* [3]    Bueche, F., Hecht, E. & Pérez Castellanos, J. Física general. (McGraw-Hill, 2007).\n",
    "* [4] Chang, R. & Goldsy, K. Química. (McGraw-Hill/Interamericana Editores, 2017)."
   ]
  }
 ],
 "metadata": {
  "kernelspec": {
   "display_name": "Python 3",
   "language": "python",
   "name": "python3"
  },
  "language_info": {
   "codemirror_mode": {
    "name": "ipython",
    "version": 3
   },
   "file_extension": ".py",
   "mimetype": "text/x-python",
   "name": "python",
   "nbconvert_exporter": "python",
   "pygments_lexer": "ipython3",
   "version": "3.7.4"
  }
 },
 "nbformat": 4,
 "nbformat_minor": 2
}
